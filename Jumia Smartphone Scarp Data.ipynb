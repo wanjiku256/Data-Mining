{
 "cells": [
  {
   "cell_type": "code",
   "execution_count": 1,
   "id": "f6c8be4e",
   "metadata": {},
   "outputs": [],
   "source": [
    "## import libaries\n",
    "\n",
    "import requests\n",
    "from bs4 import BeautifulSoup\n",
    "\n",
    "baseUrl = 'https://www.jumia.co.ke'\n",
    "headers ={ \n",
    "    'User-Agent':'Mozilla/5.0 (Windows NT 10.0; Win64; x64) AppleWebKit/537.36 (KHTML, like Gecko) Chrome/120.0.0.0 Safari/537.36'     \n",
    "         }\n",
    "import pandas as pd"
   ]
  },
  {
   "cell_type": "code",
   "execution_count": 2,
   "id": "48d63749",
   "metadata": {},
   "outputs": [],
   "source": [
    "r = requests.get('https://www.jumia.co.ke/smartphones/?page=1#catalog-listing',headers=headers)\n",
    "\n",
    "soup = BeautifulSoup(r.content, 'html')\n",
    "\n",
    "productlist = soup.find_all('article', class_='prd _fb col c-prd')\n"
   ]
  },
  {
   "cell_type": "code",
   "execution_count": 3,
   "id": "1a4bf7ed",
   "metadata": {},
   "outputs": [],
   "source": [
    "productLinks=[]"
   ]
  },
  {
   "cell_type": "code",
   "execution_count": 4,
   "id": "b9ace562",
   "metadata": {},
   "outputs": [
    {
     "name": "stdout",
     "output_type": "stream",
     "text": [
      "70\n"
     ]
    }
   ],
   "source": [
    "#loop for individual item links in pages. specify number of pages in range\n",
    "for x in range(1,2):\n",
    "    r = requests.get('https://www.jumia.co.ke/smartphones/?page={x}#catalog-listing',headers=headers)\n",
    "    soup = BeautifulSoup(r.content, 'html')\n",
    "    productlist = soup.find_all('article', class_='prd _fb col c-prd')\n",
    "    productlinks =soup.find_all('a', class_='core')\n",
    "    for a in productlinks:\n",
    "        productLinks.append(baseUrl + a['href'])\n",
    "    \n",
    "print(len(productLinks))"
   ]
  },
  {
   "cell_type": "code",
   "execution_count": 5,
   "id": "959454c3",
   "metadata": {},
   "outputs": [],
   "source": [
    "smartphoneList=[]"
   ]
  },
  {
   "cell_type": "code",
   "execution_count": 6,
   "id": "da72010d",
   "metadata": {},
   "outputs": [
    {
     "name": "stdout",
     "output_type": "stream",
     "text": [
      "Saving: Tecno Spark 10 Pro, 6.8\", 128GB + 8GB RAM (Dual SIM), 5000mAh, Lunar Eclipse\n",
      "Saving: Infinix Smart 7 HD, 6.6\", 2GB RAM, 64GB, 5000mAh, 4G(DUAL SIM) - Ink Black\n",
      "Saving: Samsung Galaxy A14 4G, 6.6\", 64GB + 4GB RAM (Dual SIM), 5000mAh, Silver\n",
      "Saving: Freeyond F9,2GB+64GB,6.52\", 13.0MP,4G Smartphone 5000mAh Dual SIM Android Phone,Blue\n",
      "Saving: XIAOMI Redmi 12C, 6.71'' ,3GB+64GB, 50MP, 5000mAh, 4G, Dual Sim - Graphite Grey\n",
      "Saving: Infinix Smart 7 HD, 6.6\", 2GB RAM, 64GB, 5000mAh, 4G(DUAL SIM) - Jade White\n",
      "Saving: XIAOMI Redmi A2 Plus, 6.52\" Display  2 GB + 32 GB 5000mAh (Dual SIM) -  Black\n",
      "Saving: Freeyond F9,2GB+64GB,6.52\" 4G Smartphone,13.0MP 5000mAh, Dual SIM Android Phones,Black\n",
      "Saving: Tecno Spark 10C , 6.6\" FHD,128GB ROM+4GB RAM ,5000mAh,Meta Skin Blue\n",
      "Saving: Tecno Pop  7, 6.6\" HD+, 2GB + 64GB, 8MP, 4G (Dual SIM) 5000MAh - Endless Black\n",
      "Saving: Oppo A83 4GB RAM+64GB Refurbished -4G LTE Dual SIM-5.7-inch- Face Unlock -Blue\n",
      "Saving: Infinix Hot 40i, 6.56\",4GB RAM,128GB, Android 13,5000mAh,, 4G -Starlit Black\n",
      "Saving: Nokia C1 2nd Edition, 5.45\", 1GB +16GB - (DUAL SIM),Android 11, Blue\n",
      "Saving: Nokia C1 2nd Edition, 5.45\" - 16GB + 1GB (Dual Sim) 2500 MAh + SMART WATCH & AIRPODS\n",
      "Saving: XIAOMI Redmi Note 12, 6.67'' , 6GB+128GB, 50MP, Dual Sim, 33W Fast Charge-Onyx Gray\n",
      "Saving: Wireless Bluetooth In-Ear Earphone Stereo Headset\n",
      "Saving: Smartwatch Business Bluetooth Waterproof Sport\n",
      "Saving: 3Pcs/Set High Clarity Clear LCD Screen Protector Films For-\n",
      "Saving: Bluetooth Wireless Earphones Headset Call Earbuds\n",
      "Saving: Smart Bluetooth Watches For Ios And Android Bands\n",
      "Saving: Sokany 6A 120W USB To TYPE-C Charge Fast Cable 150CM\n",
      "Saving: 2Pcs 3.5/4.5/5/5.5/6cm Headphone Ear Sponge Pads ReplACE_ment Headset Accessory\n",
      "Saving: Macaroon Bluetooth Wireless Earphones Sound Headsets Noise Cancelling HD Binaural Call -PINK\n",
      "Saving: Smart Watch Camera Waterproof SIM CardWrist Watch\n",
      "Saving: Oraimo Deeper Bass, HD Sound Earphone + Mic\n",
      "Saving: Macaroon Bluetooth Wireless EarphonesEarbuds-White\n",
      "Saving: Replacement Silicone Adjustable Watch Band Wrist Strap\n",
      "Saving: Wireless Fingerprint Blutooth Earphone Headset\n",
      "Saving: Nilkin For Xiaomi Redmi Note 12 Pro Plus(+) 5G With Camera Protector\n",
      "Saving: Oraimo Strong Bass , HD+Earphone + Free Smart Watch , Airpods\n",
      "Saving: Oppo A17k, 6.56\", 64GB + 3GB RAM (Dual SIM), 5,000mAh, Blue\n",
      "Saving: Infinix Smart 7 HD, 6.6\", 2GB RAM, 64GB, 5000mAh, 4G(DUAL SIM) - Jade White\n",
      "Saving: Tecno Pop  7, 6.6\" HD+, 2GB + 64GB, 8MP, 4G (Dual SIM) 5000MAh - Endless Black\n",
      "Saving: Samsung Galaxy A14, 6.6\", 128GB + 4GB(Dual SIM), 5000 MAh, +CLASSY  GIFTS\n",
      "Saving: Nokia C32, 64GB + 4GB (Upto 7GB RAM) 5000MAh, Android 13, Black-Charcoal\n",
      "Saving: Infinix Smart 7 HD, 6.6\", 2GB RAM, 64GB, 5000mAh, 4G(DUAL SIM) - Silk Blue\n",
      "Saving: Tecno Spark 10C , 6.6\" FHD,128GB ROM+4GB RAM ,5000mAh,Meta Skin Blue\n",
      "Saving: XIAOMI Redmi A2+, 6.52\", 2GB+32GB, 8.0MP, 5000mAh, 4G , Dual SIM - Light Blue\n",
      "Saving: Tecno Spark 20 ,Android 13,6.6\",128+8GB (4+4GB),50MP Camera,5000mAh,Gravity Black\n",
      "Saving: XIAOMI Redmi 12C, 6.71\", 4GB + 128GB, 50MP CAM, 5000mAh, Blue\n",
      "Saving: Tecno Spark 10C, 6.6\", 128GB + 4GB, Dual SIM, 5000mAh + Smart Watch & Power Bank\n",
      "Saving: Freeyond F9,3GB+128GB,6.52\" 4G Smartphone,13.0MP 5000mAh, Dual SIM Android Phones\n",
      "Saving: Tecno Camon 20  6.67-inch 256GB+8GB RAM-64 MP-battery-5000mAh-+ALL GIFTS,./CY//\n",
      "Saving: Samsung Galaxy A14, 6.6\", 64GB + 4GB, 50MP, Dual SIM, 5000mAh, Silver + Free Gifts\n",
      "Saving: Samsung Galaxy A14 4G, 6.6\", 128GB + 4GB RAM (Dual SIM), 5000mAh, Black\n",
      "Saving: Infinix Hot 40i, 6.6\",4GB RAM,128GB, Android 13,5000mAh,  4G -Starlit Black\n",
      "Saving: Itel A04, 6.3\" Display, 32GB Storage + 2GB RAM, 4000mAh...+MAR11\n",
      "Saving: XIAOMI Redmi A2+, 6.52\", 2GB+32GB, 8.0MP, 5000mAh, 4G , Dual SIM - Black\n",
      "Saving: Infinix Hot 40i, 6.56\",4GB RAM,128GB, Android 13,5000mAh,, 4G -Starlit Black\n",
      "Saving: Freeyond F9,4GB+64GB,6.52\" 4G Smartphone,13.0MP 5000mAh, Dual SIM Android Phones,Grey\n",
      "Saving: Infinix Smart 7 HD, 6.6\", 2GB RAM, 64GB, 5000mAh, 4G(DUAL SIM) - Night Ink Black\n",
      "Saving: Samsung Galaxy A04, 6.5\", 64GB + 4GB RAM (Dual SIM), 5000mAh, Black\n",
      "Saving: XIAOMI Redmi 12c, 6.71'', 6GB RAM + 128GB (Dual SIM), 5000mAh, Graphite Grey\n",
      "Saving: Infinix Smart 7 HD, 6.6\", 2GB RAM, 64GB, 5000mAh, 4G(DUAL SIM) - Ink Silk Blue\n",
      "Saving: SIMI S502 - 5.\"  HD + 1GB And 16GB.\n",
      "Saving: Tecno Spark 10 Pro, 6.8\", 128GB + 8GB, 50MP, Dual SIM, 5000mAh - Pearl White + Smart Watch & Power Bank\n",
      "Saving: Itel A18, Display 5.0\" Display Size(32GB +1GB)(Dual Sim)Battery 2400 MAh\",sply\"\n",
      "Saving: Infinix Smart 7 HD, 6.6\", 2GB RAM, 64GB, 5000mAh, 4G(DUAL SIM) - (Jade) White\n",
      "Saving: Tecno Spark 10 Pro, 6.8\", 128GB + 8GB RAM (Dual SIM), 5000mAh, Lunar Eclipse\n",
      "Saving: Samsung Galaxy A24 4G, 6.5\", 128GB + 4GB RAM (Dual SIM), 5000mAh, Black\n",
      "Saving: Itel S23 128GB + 4GB Android 12 +SMARTNETS 1\n",
      "Saving: Itel A04, 6.3\", Display Size2GB RAM + 32GB ROM, (Dual SIM), 4000mAh,sply\"\n",
      "Saving: Itel A04 4G, 6.3\", 32GB + 2GB RAM (Dual SIM), 4000mAh - Blue\n",
      "Saving: Tecno Spark 10C, 6.6\", 128GB And UP TO 8GB RAM, Dual SIM, 5000mAh - Black + Phone Holder & Smart Watch\n",
      "Saving: Tecno Pop  7 6.6\"HD+, 2GB RAM+64GB, 8MP, 4G (Dual Sim) 5000MAh - Endless Black\n",
      "Saving: Tecno Pop 7  6.6\" Display 2GB RAM + 64GB ROM, 8MP , 5000mAh, Black + Free Gifts\n",
      "Saving: Nokia C1 2nd Edition, 5.45\", 1GB +16GB - (DUAL SIM),Android 11, Blue\n",
      "Saving: Oppo A58, 6.72'' 6GB RAM + 128GB ROM, 50Mp Camera, 4G LTE,  (Dual Sim), 5000mAh - Dazzling  Green + Smart watch & Earpods\n",
      "Saving: Oppo A83 4GB RAM+64GB Refurbished -4G LTE Dual SIM-5.7-inch- Face Unlock -Blue\n",
      "Saving: Samsung Galaxy A51 5G 128GB HDD- 6GB RAM - Prism Cube Black\n"
     ]
    }
   ],
   "source": [
    "## Scrape information needed from individual items\n",
    "\n",
    "for link in productLinks:\n",
    "    r2 = requests.get(link,headers=headers)\n",
    "    soup2 = BeautifulSoup(r2.content, 'html')\n",
    "    name = soup2.find('h1', class_='-fs20 -pts -pbxs').text.strip()\n",
    "    price = soup2.find('span', class_='-b -ltr -tal -fs24 -prxs').text.strip()[4:]\n",
    "    try:\n",
    "        rating = soup2.find('div', class_='-fs29 -yl5 -pvxs').text.strip()[:-2]\n",
    "    except:\n",
    "        rating ='0'\n",
    "    image = soup2.find('img', class_='-fw -fh')['data-src']\n",
    "    \n",
    "    smartphone ={\n",
    "        'name':name,\n",
    "       'price':price,\n",
    "        'image':image,\n",
    "        'rating':rating\n",
    "    }\n",
    "    smartphoneList.append(smartphone)\n",
    "    print('Saving:' ,smartphone['name'])"
   ]
  },
  {
   "cell_type": "code",
   "execution_count": 8,
   "id": "62846b95",
   "metadata": {},
   "outputs": [
    {
     "data": {
      "text/html": [
       "<div>\n",
       "<style scoped>\n",
       "    .dataframe tbody tr th:only-of-type {\n",
       "        vertical-align: middle;\n",
       "    }\n",
       "\n",
       "    .dataframe tbody tr th {\n",
       "        vertical-align: top;\n",
       "    }\n",
       "\n",
       "    .dataframe thead th {\n",
       "        text-align: right;\n",
       "    }\n",
       "</style>\n",
       "<table border=\"1\" class=\"dataframe\">\n",
       "  <thead>\n",
       "    <tr style=\"text-align: right;\">\n",
       "      <th></th>\n",
       "      <th>name</th>\n",
       "      <th>price</th>\n",
       "      <th>image</th>\n",
       "      <th>rating</th>\n",
       "    </tr>\n",
       "  </thead>\n",
       "  <tbody>\n",
       "    <tr>\n",
       "      <th>0</th>\n",
       "      <td>Tecno Spark 10 Pro, 6.8\", 128GB + 8GB RAM (Dua...</td>\n",
       "      <td>22,999</td>\n",
       "      <td>https://ke.jumia.is/unsafe/fit-in/500x500/filt...</td>\n",
       "      <td>4.7</td>\n",
       "    </tr>\n",
       "    <tr>\n",
       "      <th>1</th>\n",
       "      <td>Infinix Smart 7 HD, 6.6\", 2GB RAM, 64GB, 5000m...</td>\n",
       "      <td>11,520</td>\n",
       "      <td>https://ke.jumia.is/unsafe/fit-in/500x500/filt...</td>\n",
       "      <td>4.4</td>\n",
       "    </tr>\n",
       "    <tr>\n",
       "      <th>2</th>\n",
       "      <td>Samsung Galaxy A14 4G, 6.6\", 64GB + 4GB RAM (D...</td>\n",
       "      <td>20,799</td>\n",
       "      <td>https://ke.jumia.is/unsafe/fit-in/500x500/filt...</td>\n",
       "      <td>4.5</td>\n",
       "    </tr>\n",
       "    <tr>\n",
       "      <th>3</th>\n",
       "      <td>Freeyond F9,2GB+64GB,6.52\", 13.0MP,4G Smartpho...</td>\n",
       "      <td>11,390</td>\n",
       "      <td>https://ke.jumia.is/unsafe/fit-in/500x500/filt...</td>\n",
       "      <td>4</td>\n",
       "    </tr>\n",
       "    <tr>\n",
       "      <th>4</th>\n",
       "      <td>XIAOMI Redmi 12C, 6.71'' ,3GB+64GB, 50MP, 5000...</td>\n",
       "      <td>15,499</td>\n",
       "      <td>https://ke.jumia.is/unsafe/fit-in/500x500/filt...</td>\n",
       "      <td>4.3</td>\n",
       "    </tr>\n",
       "  </tbody>\n",
       "</table>\n",
       "</div>"
      ],
      "text/plain": [
       "                                                name   price  \\\n",
       "0  Tecno Spark 10 Pro, 6.8\", 128GB + 8GB RAM (Dua...  22,999   \n",
       "1  Infinix Smart 7 HD, 6.6\", 2GB RAM, 64GB, 5000m...  11,520   \n",
       "2  Samsung Galaxy A14 4G, 6.6\", 64GB + 4GB RAM (D...  20,799   \n",
       "3  Freeyond F9,2GB+64GB,6.52\", 13.0MP,4G Smartpho...  11,390   \n",
       "4  XIAOMI Redmi 12C, 6.71'' ,3GB+64GB, 50MP, 5000...  15,499   \n",
       "\n",
       "                                               image rating  \n",
       "0  https://ke.jumia.is/unsafe/fit-in/500x500/filt...    4.7  \n",
       "1  https://ke.jumia.is/unsafe/fit-in/500x500/filt...    4.4  \n",
       "2  https://ke.jumia.is/unsafe/fit-in/500x500/filt...    4.5  \n",
       "3  https://ke.jumia.is/unsafe/fit-in/500x500/filt...      4  \n",
       "4  https://ke.jumia.is/unsafe/fit-in/500x500/filt...    4.3  "
      ]
     },
     "execution_count": 8,
     "metadata": {},
     "output_type": "execute_result"
    }
   ],
   "source": [
    "## store records in a data frame\n",
    "\n",
    "df = pd.DataFrame(smartphoneList)\n",
    "df.head(5)"
   ]
  },
  {
   "cell_type": "code",
   "execution_count": 10,
   "id": "e27db527",
   "metadata": {},
   "outputs": [],
   "source": [
    "df.to_csv('jumia smartphone data.csv', index=False, encoding='utf-8')"
   ]
  },
  {
   "cell_type": "code",
   "execution_count": null,
   "id": "88be1d4a",
   "metadata": {},
   "outputs": [],
   "source": []
  }
 ],
 "metadata": {
  "kernelspec": {
   "display_name": "Python 3 (ipykernel)",
   "language": "python",
   "name": "python3"
  },
  "language_info": {
   "codemirror_mode": {
    "name": "ipython",
    "version": 3
   },
   "file_extension": ".py",
   "mimetype": "text/x-python",
   "name": "python",
   "nbconvert_exporter": "python",
   "pygments_lexer": "ipython3",
   "version": "3.10.9"
  }
 },
 "nbformat": 4,
 "nbformat_minor": 5
}
